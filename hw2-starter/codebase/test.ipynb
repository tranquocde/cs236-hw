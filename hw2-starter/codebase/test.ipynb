{
 "cells": [
  {
   "cell_type": "code",
   "execution_count": 1,
   "metadata": {},
   "outputs": [],
   "source": [
    "import torch"
   ]
  },
  {
   "cell_type": "code",
   "execution_count": 9,
   "metadata": {},
   "outputs": [
    {
     "data": {
      "text/plain": [
       "tensor([[-2.7082,  1.3201],\n",
       "        [ 0.1977,  0.3918],\n",
       "        [-0.9581,  0.4107]])"
      ]
     },
     "execution_count": 9,
     "metadata": {},
     "output_type": "execute_result"
    }
   ],
   "source": [
    "x = torch.randn(3,2)\n",
    "x"
   ]
  },
  {
   "cell_type": "code",
   "execution_count": 10,
   "metadata": {},
   "outputs": [
    {
     "data": {
      "text/plain": [
       "tensor([[-0.5766, -0.1686],\n",
       "        [ 0.6952, -0.0685],\n",
       "        [ 0.5449, -2.1364]])"
      ]
     },
     "execution_count": 10,
     "metadata": {},
     "output_type": "execute_result"
    }
   ],
   "source": [
    "y = torch.randn(3,2)\n",
    "y"
   ]
  },
  {
   "cell_type": "code",
   "execution_count": 11,
   "metadata": {},
   "outputs": [
    {
     "data": {
      "text/plain": [
       "tensor([[ 1.5617, -0.2226],\n",
       "        [ 0.1375, -0.0268],\n",
       "        [-0.5221, -0.8774]])"
      ]
     },
     "execution_count": 11,
     "metadata": {},
     "output_type": "execute_result"
    }
   ],
   "source": [
    "x*y"
   ]
  },
  {
   "cell_type": "code",
   "execution_count": 12,
   "metadata": {},
   "outputs": [
    {
     "name": "stdout",
     "output_type": "stream",
     "text": [
      "tensor([[1, 2, 3],\n",
      "        [1, 2, 3],\n",
      "        [1, 2, 3],\n",
      "        [1, 2, 3]])\n"
     ]
    }
   ],
   "source": [
    "import torch\n",
    "\n",
    "# Create a tensor of shape (1, 3)\n",
    "x = torch.tensor([[1, 2, 3]])\n",
    "\n",
    "# Expand the tensor to shape (4, 3)\n",
    "y = x.expand(4, -1)\n",
    "\n",
    "print(y)"
   ]
  },
  {
   "cell_type": "code",
   "execution_count": 1,
   "metadata": {},
   "outputs": [
    {
     "data": {
      "image/png": "[encoded data removed]",
      "text/plain": [
       "<Figure size 500x500 with 16 Axes>"
      ]
     },
     "metadata": {},
     "output_type": "display_data"
    }
   ],
   "source": [
    "import matplotlib.pyplot as plt\n",
    "import numpy as np\n",
    "\n",
    "# Assuming images is a list of your images stored as numpy arrays\n",
    "images = [np.random.rand(10, 10) for _ in range(16)]  # replace this with your images\n",
    "\n",
    "# Define the grid size\n",
    "grid_size = (4, 4)\n",
    "\n",
    "fig, axs = plt.subplots(grid_size[0], grid_size[1], figsize=(5, 5))\n",
    "\n",
    "# Remove space between plots\n",
    "fig.subplots_adjust(hspace = 0, wspace = 0)\n",
    "\n",
    "# Remove axes\n",
    "for ax in axs.ravel():\n",
    "    ax.axis('off')\n",
    "\n",
    "# Plot images\n",
    "for i, ax in enumerate(axs.ravel()):\n",
    "    if i < len(images):\n",
    "        ax.imshow(images[i], aspect='auto')\n",
    "\n",
    "plt.show()"
   ]
  },
  {
   "cell_type": "code",
   "execution_count": null,
   "metadata": {},
   "outputs": [],
   "source": []
  }
 ],
 "metadata": {
  "kernelspec": {
   "display_name": "base",
   "language": "python",
   "name": "python3"
  },
  "language_info": {
   "codemirror_mode": {
    "name": "ipython",
    "version": 3
   },
   "file_extension": ".py",
   "mimetype": "text/x-python",
   "name": "python",
   "nbconvert_exporter": "python",
   "pygments_lexer": "ipython3",
   "version": "3.10.8"
  }
 },
 "nbformat": 4,
 "nbformat_minor": 2
}
